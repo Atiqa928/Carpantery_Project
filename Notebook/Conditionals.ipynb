{
 "cells": [
  {
   "cell_type": "code",
   "execution_count": null,
   "id": "ed295342-f48a-490f-9bfd-dcf1fab243e6",
   "metadata": {},
   "outputs": [],
   "source": [
    "# Conditionals"
   ]
  },
  {
   "cell_type": "code",
   "execution_count": 1,
   "id": "5ea8d094-c081-4003-a387-ef48d03129d7",
   "metadata": {},
   "outputs": [
    {
     "name": "stdout",
     "output_type": "stream",
     "text": [
      "50.0\n",
      "100.0\n",
      "25.0\n"
     ]
    }
   ],
   "source": [
    "all_elevations= [100,200,50]\n",
    "for elevation in all_elevations:\n",
    "    new_elevation=elevation/2 # to create new variable in the loop\n",
    "    print(new_elevation)"
   ]
  },
  {
   "cell_type": "code",
   "execution_count": 2,
   "id": "07732e91-fd76-43cb-a6ae-7c84ff53cecf",
   "metadata": {},
   "outputs": [
    {
     "name": "stdout",
     "output_type": "stream",
     "text": [
      "50\n"
     ]
    }
   ],
   "source": [
    "print(elevation)"
   ]
  },
  {
   "cell_type": "code",
   "execution_count": 3,
   "id": "2bfeb9a3-c99f-45da-bdc1-a5da17282011",
   "metadata": {},
   "outputs": [
    {
     "name": "stdout",
     "output_type": "stream",
     "text": [
      "25.0\n"
     ]
    }
   ],
   "source": [
    "print(new_elevation)"
   ]
  },
  {
   "cell_type": "code",
   "execution_count": 8,
   "id": "5d9953e0-6c0e-46dd-8fb6-1ff784d0751b",
   "metadata": {},
   "outputs": [
    {
     "name": "stdout",
     "output_type": "stream",
     "text": [
      "50.0\n",
      "100.0\n",
      "25.0\n",
      "[50.0, 100.0, 25.0]\n"
     ]
    }
   ],
   "source": [
    "all_elevations= [100,200,50]\n",
    "elevation_result= []\n",
    "for elevation in all_elevations:\n",
    "    new_elevation=elevation/2\n",
    "    print(new_elevation)\n",
    "    elevation_result.append(new_elevation)\n",
    "\n",
    "print(elevation_result)\n",
    "\n",
    "#/ will make number a float\n",
    "#// forces number to be an integer"
   ]
  },
  {
   "cell_type": "code",
   "execution_count": null,
   "id": "89adf8a3-54f8-4117-a284-69eeb1227e01",
   "metadata": {},
   "outputs": [],
   "source": [
    "### Conditionals"
   ]
  },
  {
   "cell_type": "code",
   "execution_count": 9,
   "id": "06b32d06-5c17-4ab0-8bbb-cebda5127122",
   "metadata": {},
   "outputs": [
    {
     "name": "stdout",
     "output_type": "stream",
     "text": [
      "100 is high\n"
     ]
    }
   ],
   "source": [
    "elevation = 100\n",
    "\n",
    "if elevation > 10:\n",
    "    print(elevation, 'is high')\n"
   ]
  },
  {
   "cell_type": "code",
   "execution_count": 10,
   "id": "ca389307-253f-4fb0-b2f3-ca7409fda69f",
   "metadata": {},
   "outputs": [],
   "source": [
    "elevation=0\n",
    "if elevation > 10:\n",
    "    print(elevation, 'is high')"
   ]
  },
  {
   "cell_type": "code",
   "execution_count": 14,
   "id": "324cfd0d-0562-4f18-adf0-4dab56ded014",
   "metadata": {},
   "outputs": [
    {
     "name": "stdout",
     "output_type": "stream",
     "text": [
      "200\n",
      "200 is high\n",
      "100\n",
      "100 is high\n",
      "5\n",
      "1\n"
     ]
    }
   ],
   "source": [
    "all_elevations= [200,100,5,1]\n",
    "for elevation in all_elevations:\n",
    "    print(elevation)\n",
    "    if elevation > 10:\n",
    "        print(elevation, 'is high')"
   ]
  },
  {
   "cell_type": "code",
   "execution_count": 15,
   "id": "cb9221b9-85c1-493f-870c-0fa80133e16a",
   "metadata": {},
   "outputs": [
    {
     "name": "stdout",
     "output_type": "stream",
     "text": [
      "200\n",
      "200 is high\n",
      "100\n",
      "100 is high\n",
      "5\n",
      "5 is low\n",
      "1\n",
      "1 is low\n"
     ]
    }
   ],
   "source": [
    "all_elevation = [200,100,5,1]\n",
    "for elevation in all_elevations:\n",
    "    print(elevation)\n",
    "    if elevation > 10: # if if statement is not true then we use else\n",
    "        print (elevation, 'is high')\n",
    "    else: \n",
    "        print(elevation, 'is low')"
   ]
  },
  {
   "cell_type": "code",
   "execution_count": 18,
   "id": "22c6e970-b018-45fe-b6e1-b68f59c6adeb",
   "metadata": {},
   "outputs": [
    {
     "name": "stdout",
     "output_type": "stream",
     "text": [
      "200\n",
      "200 is high\n",
      "100\n",
      "100 is high\n",
      "5\n",
      "5 is small\n",
      "1\n",
      "1 is small\n",
      "200\n",
      "200 is huge!\n",
      "100\n",
      "100 is huge!\n",
      "5\n",
      "5 is small\n",
      "1\n",
      "1 is small\n"
     ]
    }
   ],
   "source": [
    "all_elevation = [200,100,5,1]\n",
    "for elevation in all_elevations:\n",
    "    print(elevation)\n",
    "    if elevation > 10: # if if statement is not true then we use else\n",
    "        print (elevation, 'is high')\n",
    "    elif elevation > 100: # short of elseif\n",
    "        print(elevation, 'is huge!')\n",
    "    else:\n",
    "        print(elevation, 'is small')\n",
    "\n",
    "# elif did not work coz the order of statement is very important. we can fix it by chaging the ordr of statements\n",
    "all_elevation = [200,100,5,1]\n",
    "for elevation in all_elevations:\n",
    "    print(elevation)\n",
    "    if elevation > 10: # if if statement is not true then we use else\n",
    "        print (elevation, 'is huge!')\n",
    "    elif elevation > 100: # short of elseif\n",
    "        print(elevation, 'is high!')\n",
    "    else:\n",
    "        print(elevation, 'is small')\n"
   ]
  },
  {
   "cell_type": "code",
   "execution_count": 20,
   "id": "2514916e-94cb-4e04-badf-26ece3641c8c",
   "metadata": {},
   "outputs": [
    {
     "name": "stdout",
     "output_type": "stream",
     "text": [
      "200\n",
      "200 is huge!\n",
      "200 is high!\n",
      "100\n",
      "100 is high!\n",
      "5\n",
      "1\n"
     ]
    }
   ],
   "source": [
    "for elevation in all_elevations:\n",
    "    print(elevation)\n",
    "    if elevation > 100: # if if statement is not true then we use else\n",
    "        print (elevation, 'is huge!')\n",
    "        \n",
    "    if elevation > 10: # short of elseif\n",
    "        print(elevation, 'is high!')\n",
    "    "
   ]
  },
  {
   "cell_type": "code",
   "execution_count": 22,
   "id": "d7dfba0d-5ffe-41a3-ba3e-2ae413fbddd5",
   "metadata": {},
   "outputs": [
    {
     "name": "stdout",
     "output_type": "stream",
     "text": [
      "5\n",
      "100\n",
      "10\n",
      "20\n",
      "75\n",
      "85\n",
      "200\n",
      "400\n",
      "['low', 'low', 'low', 'low', 'medium', 'medium', 'high', 'high']\n"
     ]
    }
   ],
   "source": [
    "all_elevations = [ 5,100,10,20,75,85,200,400]\n",
    "elevation_results = []\n",
    "\n",
    "for elevation in all_elevations:\n",
    "    print(elevation)\n",
    "    if elevation > 100:\n",
    "        elevation_results. append (\"high\")\n",
    "    elif elevation < 100 and elevation >= 50:\n",
    "        elevation_results.append(\"medium\")\n",
    "    else:\n",
    "        elevation_results.append(\"low\")\n",
    "\n",
    "print(elevation_results)\n",
    "                  "
   ]
  },
  {
   "cell_type": "code",
   "execution_count": 39,
   "id": "7e07052b-ce87-4fa3-bb6d-fd7e81e43fe1",
   "metadata": {},
   "outputs": [
    {
     "name": "stdout",
     "output_type": "stream",
     "text": [
      "[0, 1, 1, 1, 1]\n"
     ]
    }
   ],
   "source": [
    "original = [-1.5, 0.2, 0.4, 1.3, 0.5]\n",
    "#0 if number is below 0, 1 if number is above 1\n",
    "binary_results = []\n",
    "for number in original:\n",
    "    if number > 0:\n",
    "        binary_results.append(1)\n",
    "    else:\n",
    "        binary_results.append(0)\n",
    "\n",
    "print(binary_results)\n",
    "    \n"
   ]
  },
  {
   "cell_type": "code",
   "execution_count": null,
   "id": "73dc50cd-0de9-4d04-985b-d3da0a67e785",
   "metadata": {},
   "outputs": [],
   "source": []
  }
 ],
 "metadata": {
  "kernelspec": {
   "display_name": "Python 3 (ipykernel)",
   "language": "python",
   "name": "python3"
  },
  "language_info": {
   "codemirror_mode": {
    "name": "ipython",
    "version": 3
   },
   "file_extension": ".py",
   "mimetype": "text/x-python",
   "name": "python",
   "nbconvert_exporter": "python",
   "pygments_lexer": "ipython3",
   "version": "3.12.5"
  }
 },
 "nbformat": 4,
 "nbformat_minor": 5
}
