{
 "cells": [
  {
   "cell_type": "code",
   "execution_count": null,
   "id": "e272e233-3dcb-4ecd-b9ac-79df055785c9",
   "metadata": {},
   "outputs": [],
   "source": [
    "# lists\n",
    "multiple variables"
   ]
  },
  {
   "cell_type": "code",
   "execution_count": 1,
   "id": "6875daf1-f1d0-44f2-8cf0-d44e4ea93140",
   "metadata": {},
   "outputs": [],
   "source": [
    "age_1=35\n",
    "age_2= 45\n",
    "age_4=35\n",
    "# etc"
   ]
  },
  {
   "cell_type": "code",
   "execution_count": 3,
   "id": "095be381-4e50-4618-9c9f-77749de656f9",
   "metadata": {},
   "outputs": [],
   "source": [
    "all_ages= [35, 45, 67, 100, 9]"
   ]
  },
  {
   "cell_type": "code",
   "execution_count": 5,
   "id": "cef6e026-9f81-40f1-be22-467a89c86dc9",
   "metadata": {},
   "outputs": [
    {
     "name": "stdout",
     "output_type": "stream",
     "text": [
      "[35, 45, 67, 100, 9]\n"
     ]
    }
   ],
   "source": [
    "print(all_ages)"
   ]
  },
  {
   "cell_type": "code",
   "execution_count": 6,
   "id": "adfc2811-273f-45bd-9e72-f768a5ffe8af",
   "metadata": {},
   "outputs": [
    {
     "data": {
      "text/plain": [
       "5"
      ]
     },
     "execution_count": 6,
     "metadata": {},
     "output_type": "execute_result"
    }
   ],
   "source": [
    "len(all_ages)"
   ]
  },
  {
   "cell_type": "code",
   "execution_count": 8,
   "id": "b28fed6d-4ecd-4911-b8e8-a8037b422a6b",
   "metadata": {},
   "outputs": [
    {
     "name": "stdout",
     "output_type": "stream",
     "text": [
      "35\n"
     ]
    }
   ],
   "source": [
    "# command to print first item in my list\n",
    "print(all_ages[0])"
   ]
  },
  {
   "cell_type": "code",
   "execution_count": 9,
   "id": "ae5ed66d-520f-4aaf-8b05-e0295fa54b2b",
   "metadata": {},
   "outputs": [
    {
     "name": "stdout",
     "output_type": "stream",
     "text": [
      "9\n"
     ]
    }
   ],
   "source": [
    "print(all_ages[4])"
   ]
  },
  {
   "cell_type": "code",
   "execution_count": 10,
   "id": "62d4da07-d685-4ea2-9356-1b8a3af27287",
   "metadata": {},
   "outputs": [],
   "source": [
    "all_ages[0] = 36"
   ]
  },
  {
   "cell_type": "code",
   "execution_count": 11,
   "id": "0763793a-d350-4ebd-9d96-e66d6b835b20",
   "metadata": {},
   "outputs": [
    {
     "name": "stdout",
     "output_type": "stream",
     "text": [
      "[36, 45, 67, 100, 9]\n"
     ]
    }
   ],
   "source": [
    "print (all_ages)"
   ]
  },
  {
   "cell_type": "code",
   "execution_count": 12,
   "id": "f7c0f582-0700-4ad0-9b2a-0fce80718cef",
   "metadata": {},
   "outputs": [
    {
     "ename": "IndexError",
     "evalue": "list index out of range",
     "output_type": "error",
     "traceback": [
      "\u001b[1;31m---------------------------------------------------------------------------\u001b[0m",
      "\u001b[1;31mIndexError\u001b[0m                                Traceback (most recent call last)",
      "Cell \u001b[1;32mIn[12], line 1\u001b[0m\n\u001b[1;32m----> 1\u001b[0m \u001b[38;5;28mprint\u001b[39m (\u001b[43mall_ages\u001b[49m\u001b[43m \u001b[49m\u001b[43m[\u001b[49m\u001b[38;5;241;43m5\u001b[39;49m\u001b[43m]\u001b[49m) \u001b[38;5;66;03m# will raise error\u001b[39;00m\n",
      "\u001b[1;31mIndexError\u001b[0m: list index out of range"
     ]
    }
   ],
   "source": [
    "print (all_ages [5]) # will raise error"
   ]
  },
  {
   "cell_type": "code",
   "execution_count": 13,
   "id": "e391386d-c1ef-40e9-9449-a2226f762af5",
   "metadata": {},
   "outputs": [],
   "source": [
    "all_ages[0] = 35"
   ]
  },
  {
   "cell_type": "code",
   "execution_count": 14,
   "id": "5938f92f-c363-4193-814e-3bb466bb2289",
   "metadata": {},
   "outputs": [
    {
     "name": "stdout",
     "output_type": "stream",
     "text": [
      "[35, 45, 67, 100, 9]\n"
     ]
    }
   ],
   "source": [
    "print (all_ages)"
   ]
  },
  {
   "cell_type": "code",
   "execution_count": 15,
   "id": "8fa342cf-fea6-45f2-9cfb-358bf4bdd365",
   "metadata": {},
   "outputs": [],
   "source": [
    "empty_list= []"
   ]
  },
  {
   "cell_type": "code",
   "execution_count": 16,
   "id": "5240ba67-14c6-4ab3-99d7-ee692505c6bd",
   "metadata": {},
   "outputs": [
    {
     "name": "stdout",
     "output_type": "stream",
     "text": [
      "[]\n"
     ]
    }
   ],
   "source": [
    "print(empty_list)"
   ]
  },
  {
   "cell_type": "code",
   "execution_count": 17,
   "id": "4e6e6689-e695-4b3f-89e2-97788f1f5e49",
   "metadata": {},
   "outputs": [
    {
     "name": "stdout",
     "output_type": "stream",
     "text": [
      "0\n"
     ]
    }
   ],
   "source": [
    "print(len (empty_list))"
   ]
  },
  {
   "cell_type": "code",
   "execution_count": 18,
   "id": "e6653b95-6ecd-4f08-9f5b-5ac649e37f4c",
   "metadata": {},
   "outputs": [],
   "source": [
    "all_ages=[45,23,76]\n"
   ]
  },
  {
   "cell_type": "code",
   "execution_count": 21,
   "id": "f400a30f-895c-43a0-81ae-0e85f9d90da1",
   "metadata": {},
   "outputs": [],
   "source": [
    "#Append \n",
    "all_ages.append(52)"
   ]
  },
  {
   "cell_type": "code",
   "execution_count": 22,
   "id": "328adb73-3b23-4e66-bfce-a376b317defb",
   "metadata": {},
   "outputs": [
    {
     "name": "stdout",
     "output_type": "stream",
     "text": [
      "[45, 23, 76, 52]\n"
     ]
    }
   ],
   "source": [
    "print(all_ages)"
   ]
  },
  {
   "cell_type": "code",
   "execution_count": 23,
   "id": "2cf6fdd0-0ae8-4057-938d-68fec3916fd3",
   "metadata": {},
   "outputs": [],
   "source": [
    "#Append \n",
    "all_ages.append(65)"
   ]
  },
  {
   "cell_type": "code",
   "execution_count": 24,
   "id": "24b66439-d834-4713-8bcb-4bd8e98a770c",
   "metadata": {},
   "outputs": [
    {
     "name": "stdout",
     "output_type": "stream",
     "text": [
      "[45, 23, 76, 52, 65]\n"
     ]
    }
   ],
   "source": [
    "print(all_ages)"
   ]
  },
  {
   "cell_type": "code",
   "execution_count": 25,
   "id": "3059912b-e05f-4248-8ce5-f8a434bc79e7",
   "metadata": {},
   "outputs": [
    {
     "data": {
      "text/plain": [
       "5"
      ]
     },
     "execution_count": 25,
     "metadata": {},
     "output_type": "execute_result"
    }
   ],
   "source": [
    "len(all_ages)"
   ]
  },
  {
   "cell_type": "code",
   "execution_count": 27,
   "id": "de5ce0be-caf5-4be7-8988-90ea3339685e",
   "metadata": {},
   "outputs": [],
   "source": [
    "# remove things from the list\n",
    "del all_ages[0]"
   ]
  },
  {
   "cell_type": "code",
   "execution_count": 28,
   "id": "72e83fda-6718-4b3d-b8a2-0d79dc88b5f1",
   "metadata": {},
   "outputs": [
    {
     "name": "stdout",
     "output_type": "stream",
     "text": [
      "[23, 76, 52, 65]\n"
     ]
    }
   ],
   "source": [
    "print(all_ages)"
   ]
  },
  {
   "cell_type": "code",
   "execution_count": 31,
   "id": "f98545bb-c840-4a3d-b870-a0b6f80eb77f",
   "metadata": {},
   "outputs": [],
   "source": [
    "del all_ages[3]"
   ]
  },
  {
   "cell_type": "code",
   "execution_count": 33,
   "id": "5b3f2543-ec3a-4404-b2b8-e4aa12e8ce69",
   "metadata": {},
   "outputs": [
    {
     "name": "stdout",
     "output_type": "stream",
     "text": [
      "[23, 76, 52]\n"
     ]
    }
   ],
   "source": [
    "print (all_ages)\n"
   ]
  },
  {
   "cell_type": "code",
   "execution_count": 34,
   "id": "7f6375e7-7efd-4e1b-8c7a-85a5fdcdd8d2",
   "metadata": {},
   "outputs": [],
   "source": [
    "all_names= [\"Julian Evans\", \"Ruben\", \"Riane\"]"
   ]
  },
  {
   "cell_type": "code",
   "execution_count": 35,
   "id": "640b6057-4766-49eb-af22-0eb09770936d",
   "metadata": {},
   "outputs": [
    {
     "name": "stdout",
     "output_type": "stream",
     "text": [
      "['Julian Evans', 'Ruben', 'Riane']\n"
     ]
    }
   ],
   "source": [
    "print(all_names)"
   ]
  },
  {
   "cell_type": "code",
   "execution_count": 36,
   "id": "46c16022-9ee5-40ba-9011-6a8739b227e1",
   "metadata": {},
   "outputs": [
    {
     "data": {
      "text/plain": [
       "str"
      ]
     },
     "execution_count": 36,
     "metadata": {},
     "output_type": "execute_result"
    }
   ],
   "source": [
    "type(all_names[1])"
   ]
  },
  {
   "cell_type": "code",
   "execution_count": 37,
   "id": "9bb1272f-4550-4b84-9a62-42215d822953",
   "metadata": {},
   "outputs": [],
   "source": [
    "mix_list= [\"Julian\", 36, 67.2]"
   ]
  },
  {
   "cell_type": "code",
   "execution_count": 38,
   "id": "00ab0064-272b-4367-b312-ef07970b29e4",
   "metadata": {},
   "outputs": [
    {
     "name": "stdout",
     "output_type": "stream",
     "text": [
      "['Julian', 36, 67.2]\n"
     ]
    }
   ],
   "source": [
    "print (mix_list)"
   ]
  },
  {
   "cell_type": "code",
   "execution_count": 39,
   "id": "885c8266-90ff-4f3a-9dcd-b335ea2fd7ca",
   "metadata": {},
   "outputs": [
    {
     "data": {
      "text/plain": [
       "str"
      ]
     },
     "execution_count": 39,
     "metadata": {},
     "output_type": "execute_result"
    }
   ],
   "source": [
    "type(mix_list[0])"
   ]
  },
  {
   "cell_type": "code",
   "execution_count": 41,
   "id": "502c1df4-3a1d-46b6-8bf4-f14b2c353ba6",
   "metadata": {},
   "outputs": [
    {
     "data": {
      "text/plain": [
       "int"
      ]
     },
     "execution_count": 41,
     "metadata": {},
     "output_type": "execute_result"
    }
   ],
   "source": [
    "type(mix_list[1])"
   ]
  },
  {
   "cell_type": "code",
   "execution_count": 42,
   "id": "cf0d0a99-9f78-4ae5-99f9-4da6234f3221",
   "metadata": {},
   "outputs": [],
   "source": [
    "mix_list[1]= \"Ruben\""
   ]
  },
  {
   "cell_type": "code",
   "execution_count": 44,
   "id": "c56e6d91-07ec-4fc8-8e5b-5d4ae1daa41d",
   "metadata": {},
   "outputs": [],
   "source": [
    "my_name=\"Julian\""
   ]
  },
  {
   "cell_type": "code",
   "execution_count": 45,
   "id": "da65ba9e-e0b2-4f20-9a65-081e7d58b873",
   "metadata": {},
   "outputs": [
    {
     "data": {
      "text/plain": [
       "'J'"
      ]
     },
     "execution_count": 45,
     "metadata": {},
     "output_type": "execute_result"
    }
   ],
   "source": [
    "my_name[0]"
   ]
  },
  {
   "cell_type": "code",
   "execution_count": 46,
   "id": "3f7c8ad5-bff2-4c8d-bb41-f7185c2473eb",
   "metadata": {},
   "outputs": [
    {
     "ename": "TypeError",
     "evalue": "'str' object does not support item assignment",
     "output_type": "error",
     "traceback": [
      "\u001b[1;31m---------------------------------------------------------------------------\u001b[0m",
      "\u001b[1;31mTypeError\u001b[0m                                 Traceback (most recent call last)",
      "Cell \u001b[1;32mIn[46], line 1\u001b[0m\n\u001b[1;32m----> 1\u001b[0m \u001b[43mmy_name\u001b[49m\u001b[43m[\u001b[49m\u001b[38;5;241;43m0\u001b[39;49m\u001b[43m]\u001b[49m\u001b[38;5;241m=\u001b[39m \u001b[38;5;124m\"\u001b[39m\u001b[38;5;124mH\u001b[39m\u001b[38;5;124m\"\u001b[39m\n",
      "\u001b[1;31mTypeError\u001b[0m: 'str' object does not support item assignment"
     ]
    }
   ],
   "source": [
    "my_name[0]= \"H\" # raise errors "
   ]
  },
  {
   "cell_type": "code",
   "execution_count": 50,
   "id": "a75a99c8-cb3a-4827-b7e9-e194c9a35da5",
   "metadata": {},
   "outputs": [],
   "source": [
    "element = 'helium'"
   ]
  },
  {
   "cell_type": "code",
   "execution_count": 51,
   "id": "f6582e2f-dd12-47a9-bbdb-d331d3b77899",
   "metadata": {},
   "outputs": [
    {
     "name": "stdout",
     "output_type": "stream",
     "text": [
      "m\n"
     ]
    }
   ],
   "source": [
    "# Negative indexing:  to know the reverse order of word of element\n",
    "print(element[-1])"
   ]
  },
  {
   "cell_type": "code",
   "execution_count": 52,
   "id": "8e959cb6-d2d3-4753-9ea5-00ac24d497a9",
   "metadata": {},
   "outputs": [
    {
     "name": "stdout",
     "output_type": "stream",
     "text": [
      "i\n"
     ]
    }
   ],
   "source": [
    "print(element[-3])"
   ]
  },
  {
   "cell_type": "code",
   "execution_count": 53,
   "id": "844d71c4-362d-43df-9c32-de37913f59a0",
   "metadata": {},
   "outputs": [
    {
     "data": {
      "text/plain": [
       "52"
      ]
     },
     "execution_count": 53,
     "metadata": {},
     "output_type": "execute_result"
    }
   ],
   "source": [
    "all_ages[-1]"
   ]
  },
  {
   "cell_type": "code",
   "execution_count": 54,
   "id": "8b51bf36-b0e5-4b6e-a98c-ebf1249749e3",
   "metadata": {},
   "outputs": [],
   "source": [
    "element = 'lithium'\n",
    "# print (element [0:20])\n",
    "# print (element [-1:3])"
   ]
  },
  {
   "cell_type": "code",
   "execution_count": 55,
   "id": "f3d44fa6-62de-4c6e-8fc4-7a108ae86ec6",
   "metadata": {},
   "outputs": [
    {
     "name": "stdout",
     "output_type": "stream",
     "text": [
      "lithium\n"
     ]
    }
   ],
   "source": [
    "print (element [0:20]) # print whole word coz its not 2o character long)"
   ]
  },
  {
   "cell_type": "code",
   "execution_count": 57,
   "id": "3b91c273-f985-4bfe-85a5-4b239d1a2da2",
   "metadata": {},
   "outputs": [
    {
     "name": "stdout",
     "output_type": "stream",
     "text": [
      "\n"
     ]
    }
   ],
   "source": [
    "print (element [-1:3]) # return nothing coz phyton dont know how to go from last element of word to 1st one"
   ]
  },
  {
   "cell_type": "code",
   "execution_count": 58,
   "id": "e033866b-8869-46e1-b9ae-99e829914440",
   "metadata": {},
   "outputs": [
    {
     "name": "stdout",
     "output_type": "stream",
     "text": [
      "hiu\n"
     ]
    }
   ],
   "source": [
    "print (element [3:-1])"
   ]
  },
  {
   "cell_type": "code",
   "execution_count": 59,
   "id": "24f1460f-117b-4a75-ba9b-2893cf3f00ab",
   "metadata": {},
   "outputs": [],
   "source": [
    "string_and_number= \"Ruben_45\""
   ]
  },
  {
   "cell_type": "code",
   "execution_count": 64,
   "id": "6ed2e5be-eb42-4a4e-930e-8846a0a3b8a0",
   "metadata": {},
   "outputs": [
    {
     "data": {
      "text/plain": [
       "'45'"
      ]
     },
     "execution_count": 64,
     "metadata": {},
     "output_type": "execute_result"
    }
   ],
   "source": [
    "string_and_number[-2:]"
   ]
  },
  {
   "cell_type": "raw",
   "id": "e676eb4f-a0ee-4113-91fd-ce4bac2d587d",
   "metadata": {},
   "source": [
    "my_number= string_and_number[-2:]"
   ]
  },
  {
   "cell_type": "code",
   "execution_count": 65,
   "id": "4bd183b1-323f-4bee-994b-a651cb420eba",
   "metadata": {},
   "outputs": [
    {
     "data": {
      "text/plain": [
       "45"
      ]
     },
     "execution_count": 65,
     "metadata": {},
     "output_type": "execute_result"
    }
   ],
   "source": [
    "int(my_number)"
   ]
  },
  {
   "cell_type": "code",
   "execution_count": 71,
   "id": "86eeb73d-6774-4318-a6f1-ca0d8b81d373",
   "metadata": {},
   "outputs": [],
   "source": [
    "# Adding one list to another list\n",
    "my_ages=[1,2,3]"
   ]
  },
  {
   "cell_type": "code",
   "execution_count": 72,
   "id": "8aebc343-4516-40fc-9fe7-aeb8d7dc6a74",
   "metadata": {},
   "outputs": [],
   "source": [
    "my_new_ages= [4,5,6]"
   ]
  },
  {
   "cell_type": "code",
   "execution_count": 68,
   "id": "b0c530bb-4289-4999-8787-2846fe15a2e0",
   "metadata": {},
   "outputs": [],
   "source": [
    "my_ages.append(my_new_ages)"
   ]
  },
  {
   "cell_type": "code",
   "execution_count": 69,
   "id": "ed7c6efe-ebe1-4790-98f0-a3a373bb8249",
   "metadata": {},
   "outputs": [
    {
     "name": "stdout",
     "output_type": "stream",
     "text": [
      "[1, 2, 3, [4, 5, 6]]\n"
     ]
    }
   ],
   "source": [
    "print(my_ages)"
   ]
  },
  {
   "cell_type": "code",
   "execution_count": 73,
   "id": "c3967619-d822-4264-bc48-ad25849a0906",
   "metadata": {},
   "outputs": [
    {
     "data": {
      "text/plain": [
       "[1, 2, 3, 4, 5, 6]"
      ]
     },
     "execution_count": 73,
     "metadata": {},
     "output_type": "execute_result"
    }
   ],
   "source": [
    "all_ages= my_ages+my_new_ages"
   ]
  },
  {
   "cell_type": "code",
   "execution_count": null,
   "id": "a172de8d-56ea-4d0d-a7b0-1770caf64caf",
   "metadata": {},
   "outputs": [],
   "source": []
  }
 ],
 "metadata": {
  "kernelspec": {
   "display_name": "Python 3 (ipykernel)",
   "language": "python",
   "name": "python3"
  },
  "language_info": {
   "codemirror_mode": {
    "name": "ipython",
    "version": 3
   },
   "file_extension": ".py",
   "mimetype": "text/x-python",
   "name": "python",
   "nbconvert_exporter": "python",
   "pygments_lexer": "ipython3",
   "version": "3.12.5"
  }
 },
 "nbformat": 4,
 "nbformat_minor": 5
}
