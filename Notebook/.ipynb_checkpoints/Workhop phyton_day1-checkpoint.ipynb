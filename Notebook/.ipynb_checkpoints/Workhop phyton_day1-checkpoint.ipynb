{
 "cells": [
  {
   "cell_type": "code",
   "execution_count": 1,
   "id": "57f3fa59-57fe-4c82-b903-673df2e6a2f1",
   "metadata": {},
   "outputs": [
    {
     "data": {
      "text/plain": [
       "10"
      ]
     },
     "execution_count": 1,
     "metadata": {},
     "output_type": "execute_result"
    }
   ],
   "source": [
    "#This cell contains code\n",
    "3+7"
   ]
  },
  {
   "cell_type": "code",
   "execution_count": 7,
   "id": "306af151-9bd3-4729-8e78-9078f786ec27",
   "metadata": {},
   "outputs": [],
   "source": [
    "# Data types and type version\n",
    "### Common data types; integers, floats, strings\n",
    "### convert one into the other"
   ]
  },
  {
   "cell_type": "code",
   "execution_count": 4,
   "id": "3e72cf6b-5de9-430e-bbeb-c8b556f70116",
   "metadata": {},
   "outputs": [
    {
     "data": {
      "text/plain": [
       "52"
      ]
     },
     "execution_count": 4,
     "metadata": {},
     "output_type": "execute_result"
    }
   ],
   "source": [
    "52"
   ]
  },
  {
   "cell_type": "code",
   "execution_count": 5,
   "id": "d43fe6ff-7270-4fd5-9a02-93af118b7393",
   "metadata": {},
   "outputs": [
    {
     "data": {
      "text/plain": [
       "int"
      ]
     },
     "execution_count": 5,
     "metadata": {},
     "output_type": "execute_result"
    }
   ],
   "source": [
    "type(52)"
   ]
  },
  {
   "cell_type": "code",
   "execution_count": 8,
   "id": "cf08c168-5981-495d-be46-380115f7674d",
   "metadata": {},
   "outputs": [
    {
     "data": {
      "text/plain": [
       "int"
      ]
     },
     "execution_count": 8,
     "metadata": {},
     "output_type": "execute_result"
    }
   ],
   "source": [
    "age=52\n",
    "type(age)"
   ]
  },
  {
   "cell_type": "code",
   "execution_count": 10,
   "id": "04514a4f-7068-4c28-b06e-5cb870daacab",
   "metadata": {},
   "outputs": [
    {
     "data": {
      "text/plain": [
       "str"
      ]
     },
     "execution_count": 10,
     "metadata": {},
     "output_type": "execute_result"
    }
   ],
   "source": [
    "fitness= \"average\"\n",
    "type(fitness)"
   ]
  },
  {
   "cell_type": "code",
   "execution_count": 11,
   "id": "03d0866f-2dbb-40c9-a1b7-83e8b6f92092",
   "metadata": {},
   "outputs": [
    {
     "data": {
      "text/plain": [
       "str"
      ]
     },
     "execution_count": 11,
     "metadata": {},
     "output_type": "execute_result"
    }
   ],
   "source": [
    "fitness= \"average+2\"\n",
    "type(fitness)"
   ]
  },
  {
   "cell_type": "code",
   "execution_count": 12,
   "id": "3d44a5fe-f5f6-41c1-976e-95990a9f184a",
   "metadata": {},
   "outputs": [
    {
     "name": "stdout",
     "output_type": "stream",
     "text": [
      "2\n"
     ]
    }
   ],
   "source": [
    "print(5-3)"
   ]
  },
  {
   "cell_type": "code",
   "execution_count": 17,
   "id": "1b6218f2-d7c5-47a6-bd66-b140b5b49be3",
   "metadata": {},
   "outputs": [
    {
     "name": "stdout",
     "output_type": "stream",
     "text": [
      "rubenlacroix\n",
      "ruben_lacroix\n"
     ]
    }
   ],
   "source": [
    "first_name= \"ruben\"\n",
    "last_name= \"lacroix\"\n",
    "print(first_name + last_name)\n",
    "print (first_name+ \"_\" +last_name)\n",
    "    \n"
   ]
  },
  {
   "cell_type": "code",
   "execution_count": 19,
   "id": "c4becf20-b922-44c4-a674-b73c061a6f7a",
   "metadata": {},
   "outputs": [
    {
     "name": "stdout",
     "output_type": "stream",
     "text": [
      "----------\n"
     ]
    }
   ],
   "source": [
    "print(\"-\" * 10)"
   ]
  },
  {
   "cell_type": "code",
   "execution_count": 24,
   "id": "1b32cb9b-2ca5-42c9-a560-d1920da8a9e2",
   "metadata": {},
   "outputs": [
    {
     "ename": "NameError",
     "evalue": "name 'Print' is not defined",
     "output_type": "error",
     "traceback": [
      "\u001b[1;31m---------------------------------------------------------------------------\u001b[0m",
      "\u001b[1;31mNameError\u001b[0m                                 Traceback (most recent call last)",
      "Cell \u001b[1;32mIn[24], line 2\u001b[0m\n\u001b[0;32m      1\u001b[0m separator \u001b[38;5;241m=\u001b[39m \u001b[38;5;124m\"\u001b[39m\u001b[38;5;124m=\u001b[39m\u001b[38;5;124m\"\u001b[39m \u001b[38;5;241m*\u001b[39m \u001b[38;5;241m10\u001b[39m\n\u001b[1;32m----> 2\u001b[0m \u001b[43mPrint\u001b[49m(separator)\n",
      "\u001b[1;31mNameError\u001b[0m: name 'Print' is not defined"
     ]
    }
   ],
   "source": [
    "separator = \"=\" * 10\n",
    "Print(separator)"
   ]
  },
  {
   "cell_type": "code",
   "execution_count": 25,
   "id": "ade5fbab-96a1-4e58-b721-3c874d13dc86",
   "metadata": {},
   "outputs": [
    {
     "data": {
      "text/plain": [
       "10"
      ]
     },
     "execution_count": 25,
     "metadata": {},
     "output_type": "execute_result"
    }
   ],
   "source": [
    "len (separator)"
   ]
  },
  {
   "cell_type": "code",
   "execution_count": 26,
   "id": "9d50b989-992e-4273-bf89-60bd9da7e797",
   "metadata": {},
   "outputs": [
    {
     "ename": "TypeError",
     "evalue": "object of type 'int' has no len()",
     "output_type": "error",
     "traceback": [
      "\u001b[1;31m---------------------------------------------------------------------------\u001b[0m",
      "\u001b[1;31mTypeError\u001b[0m                                 Traceback (most recent call last)",
      "Cell \u001b[1;32mIn[26], line 1\u001b[0m\n\u001b[1;32m----> 1\u001b[0m \u001b[38;5;28;43mlen\u001b[39;49m\u001b[43m \u001b[49m\u001b[43m(\u001b[49m\u001b[38;5;241;43m52\u001b[39;49m\u001b[43m)\u001b[49m\n",
      "\u001b[1;31mTypeError\u001b[0m: object of type 'int' has no len()"
     ]
    }
   ],
   "source": [
    "len (52)"
   ]
  },
  {
   "cell_type": "code",
   "execution_count": 27,
   "id": "d5da20fa-17f3-4322-bb1c-54070e2a2f1b",
   "metadata": {},
   "outputs": [
    {
     "data": {
      "text/plain": [
       "2"
      ]
     },
     "execution_count": 27,
     "metadata": {},
     "output_type": "execute_result"
    }
   ],
   "source": [
    "#convert string to integer so we get number of digits\n",
    "len(str(52))\n"
   ]
  },
  {
   "cell_type": "code",
   "execution_count": 28,
   "id": "ba86dd7d-c334-414e-a8e7-861eced01182",
   "metadata": {},
   "outputs": [
    {
     "ename": "TypeError",
     "evalue": "can only concatenate str (not \"int\") to str",
     "output_type": "error",
     "traceback": [
      "\u001b[1;31m---------------------------------------------------------------------------\u001b[0m",
      "\u001b[1;31mTypeError\u001b[0m                                 Traceback (most recent call last)",
      "Cell \u001b[1;32mIn[28], line 3\u001b[0m\n\u001b[0;32m      1\u001b[0m \u001b[38;5;66;03m# convert string to integer so we can add\u001b[39;00m\n\u001b[0;32m      2\u001b[0m age\u001b[38;5;241m=\u001b[39m \u001b[38;5;124m\"\u001b[39m\u001b[38;5;124m36\u001b[39m\u001b[38;5;124m\"\u001b[39m\n\u001b[1;32m----> 3\u001b[0m age_plus3\u001b[38;5;241m=\u001b[39m \u001b[43mage\u001b[49m\u001b[38;5;241;43m+\u001b[39;49m\u001b[38;5;241;43m3\u001b[39;49m\n",
      "\u001b[1;31mTypeError\u001b[0m: can only concatenate str (not \"int\") to str"
     ]
    }
   ],
   "source": [
    "# convert string to integer so we can add\n",
    "age= \"36\"\n",
    "age_plus3= age+3"
   ]
  },
  {
   "cell_type": "code",
   "execution_count": 29,
   "id": "22b9487c-b6c7-475b-bf06-ebe8c389f49a",
   "metadata": {},
   "outputs": [],
   "source": [
    "age_plus3=int(age) + 3"
   ]
  },
  {
   "cell_type": "code",
   "execution_count": 30,
   "id": "d3a93530-0e87-453f-aa7e-98c66b0f049b",
   "metadata": {},
   "outputs": [
    {
     "name": "stdout",
     "output_type": "stream",
     "text": [
      "39\n"
     ]
    }
   ],
   "source": [
    "print(age_plus3)"
   ]
  },
  {
   "cell_type": "code",
   "execution_count": 31,
   "id": "4f6619ce-c17d-49a2-b3cd-37f80756c6a4",
   "metadata": {},
   "outputs": [
    {
     "data": {
      "text/plain": [
       "int"
      ]
     },
     "execution_count": 31,
     "metadata": {},
     "output_type": "execute_result"
    }
   ],
   "source": [
    "type(age_plus3)"
   ]
  },
  {
   "cell_type": "code",
   "execution_count": 32,
   "id": "5868ce51-5134-47c9-9ea6-0fc217a14275",
   "metadata": {},
   "outputs": [
    {
     "data": {
      "text/plain": [
       "float"
      ]
     },
     "execution_count": 32,
     "metadata": {},
     "output_type": "execute_result"
    }
   ],
   "source": [
    "#floats: decimal numbers\n",
    "temp= 37.4\n",
    "type(temp)"
   ]
  },
  {
   "cell_type": "code",
   "execution_count": 33,
   "id": "167b1cce-af68-414e-bc43-c3afa45f2c58",
   "metadata": {},
   "outputs": [
    {
     "name": "stdout",
     "output_type": "stream",
     "text": [
      "39.4\n"
     ]
    }
   ],
   "source": [
    "print(temp + 2)"
   ]
  },
  {
   "cell_type": "code",
   "execution_count": 34,
   "id": "73ed4b70-6f2f-4c93-9c92-18c8cbe1a75e",
   "metadata": {},
   "outputs": [
    {
     "data": {
      "text/plain": [
       "float"
      ]
     },
     "execution_count": 34,
     "metadata": {},
     "output_type": "execute_result"
    }
   ],
   "source": [
    "type( temp+2)"
   ]
  },
  {
   "cell_type": "code",
   "execution_count": 35,
   "id": "c13b50b3-c07a-4ac1-8059-64d957b77930",
   "metadata": {},
   "outputs": [
    {
     "name": "stdout",
     "output_type": "stream",
     "text": [
      "18.7\n"
     ]
    }
   ],
   "source": [
    "print(temp/2)"
   ]
  },
  {
   "cell_type": "code",
   "execution_count": 36,
   "id": "6b60cb23-ba66-4b93-9a29-54c1b335daaa",
   "metadata": {},
   "outputs": [
    {
     "data": {
      "text/plain": [
       "int"
      ]
     },
     "execution_count": 36,
     "metadata": {},
     "output_type": "execute_result"
    }
   ],
   "source": [
    "age = 36\n",
    "type(age)"
   ]
  },
  {
   "cell_type": "code",
   "execution_count": 37,
   "id": "aaa51d4e-acd2-4267-a1b4-905cd7bdfeb5",
   "metadata": {},
   "outputs": [
    {
     "data": {
      "text/plain": [
       "36.0"
      ]
     },
     "execution_count": 37,
     "metadata": {},
     "output_type": "execute_result"
    }
   ],
   "source": [
    "#float from integer\n",
    "float(age)"
   ]
  },
  {
   "cell_type": "code",
   "execution_count": 40,
   "id": "36b6923c-b98a-414a-adca-a9d27a009583",
   "metadata": {},
   "outputs": [
    {
     "data": {
      "text/plain": [
       "str"
      ]
     },
     "execution_count": 40,
     "metadata": {},
     "output_type": "execute_result"
    }
   ],
   "source": [
    "ph= '7.4'\n",
    "type(ph)\n"
   ]
  },
  {
   "cell_type": "code",
   "execution_count": 45,
   "id": "c1b91d2a-c231-40c1-96e4-3b117e3f6fca",
   "metadata": {},
   "outputs": [
    {
     "name": "stdout",
     "output_type": "stream",
     "text": [
      "7.4 <class 'float'>\n"
     ]
    }
   ],
   "source": [
    "float_ph = float (ph)\n",
    "print(float_ph, type(float_ph))"
   ]
  },
  {
   "cell_type": "code",
   "execution_count": 46,
   "id": "837999a1-359d-400e-8577-a8d0b49b2a4c",
   "metadata": {},
   "outputs": [
    {
     "data": {
      "text/plain": [
       "7"
      ]
     },
     "execution_count": 46,
     "metadata": {},
     "output_type": "execute_result"
    }
   ],
   "source": [
    "int (float_ph)\n"
   ]
  },
  {
   "cell_type": "code",
   "execution_count": 55,
   "id": "a64e5167-0026-4e9f-9371-20246a27fdea",
   "metadata": {},
   "outputs": [
    {
     "ename": "ValueError",
     "evalue": "invalid literal for int() with base 10: '1.1'",
     "output_type": "error",
     "traceback": [
      "\u001b[1;31m---------------------------------------------------------------------------\u001b[0m",
      "\u001b[1;31mValueError\u001b[0m                                Traceback (most recent call last)",
      "Cell \u001b[1;32mIn[55], line 8\u001b[0m\n\u001b[0;32m      6\u001b[0m first \u001b[38;5;241m+\u001b[39m \u001b[38;5;28mfloat\u001b[39m(second)\n\u001b[0;32m      7\u001b[0m \u001b[38;5;28mfloat\u001b[39m(second) \u001b[38;5;241m+\u001b[39m \u001b[38;5;28mfloat\u001b[39m(third)\n\u001b[1;32m----> 8\u001b[0m first \u001b[38;5;241m+\u001b[39m \u001b[38;5;28;43mint\u001b[39;49m\u001b[43m(\u001b[49m\u001b[43mthird\u001b[49m\u001b[43m)\u001b[49m\n\u001b[0;32m      9\u001b[0m first \u001b[38;5;241m+\u001b[39m \u001b[38;5;28mint\u001b[39m(\u001b[38;5;28mfloat\u001b[39m(third))\n\u001b[0;32m     10\u001b[0m \u001b[38;5;28mint\u001b[39m(first) \u001b[38;5;241m+\u001b[39m \u001b[38;5;28mint\u001b[39m(\u001b[38;5;28mfloat\u001b[39m(third))\n",
      "\u001b[1;31mValueError\u001b[0m: invalid literal for int() with base 10: '1.1'"
     ]
    }
   ],
   "source": [
    "# excercise\n",
    "first= 1.0\n",
    "second= '1'\n",
    "third= '1.1'\n",
    "\n",
    "#first + float(second), right number\n",
    "# float(second) + float(third), wrong number\n",
    "# first + int(third) (cannot do float +str)\n",
    "# first + int(float(third)), right number\n",
    "#int(first) + int(float(third))\n",
    "#2.0 * second # raises erros (cannot multiply  float with str)\n",
    "\n",
    "# which operation will return the float 2.0??\n"
   ]
  },
  {
   "cell_type": "code",
   "execution_count": 54,
   "id": "6e186e04-4d7d-47e8-95d3-c321d63ba0b8",
   "metadata": {},
   "outputs": [
    {
     "data": {
      "text/plain": [
       "2.0"
      ]
     },
     "execution_count": 54,
     "metadata": {},
     "output_type": "execute_result"
    }
   ],
   "source": [
    "first+float(second)\n"
   ]
  },
  {
   "cell_type": "code",
   "execution_count": 56,
   "id": "f7e0de50-dfb5-4814-b6f1-46f3b98eadaf",
   "metadata": {},
   "outputs": [
    {
     "data": {
      "text/plain": [
       "2.1"
      ]
     },
     "execution_count": 56,
     "metadata": {},
     "output_type": "execute_result"
    }
   ],
   "source": [
    "float(second) + float(third)"
   ]
  },
  {
   "cell_type": "code",
   "execution_count": 57,
   "id": "86cc5c27-fb78-4e0b-beaa-e29ac0eb6732",
   "metadata": {},
   "outputs": [
    {
     "ename": "ValueError",
     "evalue": "invalid literal for int() with base 10: '1.1'",
     "output_type": "error",
     "traceback": [
      "\u001b[1;31m---------------------------------------------------------------------------\u001b[0m",
      "\u001b[1;31mValueError\u001b[0m                                Traceback (most recent call last)",
      "Cell \u001b[1;32mIn[57], line 1\u001b[0m\n\u001b[1;32m----> 1\u001b[0m first \u001b[38;5;241m+\u001b[39m \u001b[38;5;28;43mint\u001b[39;49m\u001b[43m(\u001b[49m\u001b[43mthird\u001b[49m\u001b[43m)\u001b[49m\n",
      "\u001b[1;31mValueError\u001b[0m: invalid literal for int() with base 10: '1.1'"
     ]
    }
   ],
   "source": [
    "first + int(third)"
   ]
  },
  {
   "cell_type": "code",
   "execution_count": 58,
   "id": "032a5ac5-b5cf-4d77-8b75-c9e848c07449",
   "metadata": {},
   "outputs": [
    {
     "data": {
      "text/plain": [
       "2.0"
      ]
     },
     "execution_count": 58,
     "metadata": {},
     "output_type": "execute_result"
    }
   ],
   "source": [
    "first + int(float(third))"
   ]
  },
  {
   "cell_type": "code",
   "execution_count": 59,
   "id": "f91ed593-396a-4661-adb5-0421f236fa4f",
   "metadata": {},
   "outputs": [
    {
     "data": {
      "text/plain": [
       "2"
      ]
     },
     "execution_count": 59,
     "metadata": {},
     "output_type": "execute_result"
    }
   ],
   "source": [
    "int(first) + int(float(third))"
   ]
  },
  {
   "cell_type": "code",
   "execution_count": 60,
   "id": "d57f53b8-6d00-4d94-9f24-f75000d6aae5",
   "metadata": {},
   "outputs": [
    {
     "data": {
      "text/plain": [
       "'11'"
      ]
     },
     "execution_count": 60,
     "metadata": {},
     "output_type": "execute_result"
    }
   ],
   "source": [
    "2 * second"
   ]
  },
  {
   "cell_type": "code",
   "execution_count": null,
   "id": "b9d302ac-14c7-45a1-bc03-56d028538cc6",
   "metadata": {},
   "outputs": [],
   "source": []
  }
 ],
 "metadata": {
  "kernelspec": {
   "display_name": "Python 3 (ipykernel)",
   "language": "python",
   "name": "python3"
  },
  "language_info": {
   "codemirror_mode": {
    "name": "ipython",
    "version": 3
   },
   "file_extension": ".py",
   "mimetype": "text/x-python",
   "name": "python",
   "nbconvert_exporter": "python",
   "pygments_lexer": "ipython3",
   "version": "3.12.5"
  }
 },
 "nbformat": 4,
 "nbformat_minor": 5
}
