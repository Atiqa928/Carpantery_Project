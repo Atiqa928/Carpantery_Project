{
 "cells": [
  {
   "cell_type": "code",
   "execution_count": null,
   "id": "5e4da8b5-ec19-494e-b870-4b4f17778e22",
   "metadata": {},
   "outputs": [],
   "source": [
    "# For Loops\n"
   ]
  },
  {
   "cell_type": "code",
   "execution_count": 1,
   "id": "d01e82cc-a19c-4c7b-a7ab-19800b8994a9",
   "metadata": {},
   "outputs": [],
   "source": [
    "my_ages = [45,23,78]"
   ]
  },
  {
   "cell_type": "code",
   "execution_count": 2,
   "id": "cf37f279-5f7d-4a6f-babd-5de7ffd9604e",
   "metadata": {},
   "outputs": [
    {
     "name": "stdout",
     "output_type": "stream",
     "text": [
      "46\n"
     ]
    }
   ],
   "source": [
    "print (my_ages[0]+1)"
   ]
  },
  {
   "cell_type": "code",
   "execution_count": 3,
   "id": "e0aba7fa-ba7c-425b-83fd-2d7ecdaf873c",
   "metadata": {},
   "outputs": [
    {
     "name": "stdout",
     "output_type": "stream",
     "text": [
      "24\n"
     ]
    }
   ],
   "source": [
    "print (my_ages[1]+1)"
   ]
  },
  {
   "cell_type": "code",
   "execution_count": 5,
   "id": "ca14267c-778d-4c2f-8370-cbe37474c033",
   "metadata": {},
   "outputs": [
    {
     "name": "stdout",
     "output_type": "stream",
     "text": [
      "45\n",
      "23\n",
      "78\n"
     ]
    }
   ],
   "source": [
    "# for is used for looping\n",
    "# : is telling phyton forcontinution of codes\n",
    "for age in my_ages:\n",
    "    print(age)\n",
    "    "
   ]
  },
  {
   "cell_type": "code",
   "execution_count": 6,
   "id": "d4daf4de-43ac-4c7a-86c4-e3d8dc4a2a50",
   "metadata": {},
   "outputs": [
    {
     "name": "stdout",
     "output_type": "stream",
     "text": [
      "46\n",
      "24\n",
      "79\n"
     ]
    }
   ],
   "source": [
    "for age in my_ages:\n",
    "    print(age+1)"
   ]
  },
  {
   "cell_type": "code",
   "execution_count": 7,
   "id": "a29b957d-96bc-4dfa-9bf3-92619b7c71c5",
   "metadata": {},
   "outputs": [
    {
     "name": "stdout",
     "output_type": "stream",
     "text": [
      "45\n",
      "23\n",
      "78\n"
     ]
    }
   ],
   "source": [
    "# there will be separate varibales we have to define for loop\n",
    "age = 42\n",
    "for age in my_ages:\n",
    "    print (age)\n"
   ]
  },
  {
   "cell_type": "code",
   "execution_count": 10,
   "id": "91bac51e-7ad5-4af3-a464-ad28dca245c4",
   "metadata": {},
   "outputs": [
    {
     "name": "stdout",
     "output_type": "stream",
     "text": [
      "78\n"
     ]
    }
   ],
   "source": [
    "print(age) # you always get the last number or word etc "
   ]
  },
  {
   "cell_type": "code",
   "execution_count": 12,
   "id": "8ede767c-d8e8-4f86-85d0-b6386f5dbfd1",
   "metadata": {},
   "outputs": [
    {
     "name": "stdout",
     "output_type": "stream",
     "text": [
      "2\n",
      "3\n"
     ]
    },
    {
     "ename": "TypeError",
     "evalue": "can only concatenate str (not \"int\") to str",
     "output_type": "error",
     "traceback": [
      "\u001b[1;31m---------------------------------------------------------------------------\u001b[0m",
      "\u001b[1;31mTypeError\u001b[0m                                 Traceback (most recent call last)",
      "Cell \u001b[1;32mIn[12], line 2\u001b[0m\n\u001b[0;32m      1\u001b[0m \u001b[38;5;28;01mfor\u001b[39;00m age \u001b[38;5;129;01min\u001b[39;00m [\u001b[38;5;241m1\u001b[39m,\u001b[38;5;241m2\u001b[39m, \u001b[38;5;124m\"\u001b[39m\u001b[38;5;124mbanana\u001b[39m\u001b[38;5;124m\"\u001b[39m,\u001b[38;5;241m4\u001b[39m ]:\n\u001b[1;32m----> 2\u001b[0m     \u001b[38;5;28mprint\u001b[39m(\u001b[43mage\u001b[49m\u001b[38;5;241;43m+\u001b[39;49m\u001b[38;5;241;43m1\u001b[39;49m)\n",
      "\u001b[1;31mTypeError\u001b[0m: can only concatenate str (not \"int\") to str"
     ]
    }
   ],
   "source": [
    "for age in [1,2, \"banana\",4 ]:\n",
    "    print(age+1)"
   ]
  },
  {
   "cell_type": "code",
   "execution_count": 13,
   "id": "ba7fea73-d6f7-4641-ae32-9a41bf7ba3ba",
   "metadata": {},
   "outputs": [
    {
     "name": "stdout",
     "output_type": "stream",
     "text": [
      "banana\n"
     ]
    }
   ],
   "source": [
    "print(age)"
   ]
  },
  {
   "cell_type": "code",
   "execution_count": 14,
   "id": "59b09459-9d83-4433-a911-c6ab83e1e81d",
   "metadata": {},
   "outputs": [],
   "source": [
    "my_ages= [1,2,3,4]"
   ]
  },
  {
   "cell_type": "code",
   "execution_count": 15,
   "id": "a139f8c6-e737-428b-a9a1-8f6fb5827cdf",
   "metadata": {},
   "outputs": [
    {
     "name": "stdout",
     "output_type": "stream",
     "text": [
      "1\n",
      "2\n",
      "3\n",
      "2\n",
      "3\n",
      "4\n",
      "3\n",
      "4\n",
      "5\n",
      "4\n",
      "5\n",
      "6\n"
     ]
    }
   ],
   "source": [
    "for age in my_ages:\n",
    "    print(age)\n",
    "    print(age+1)\n",
    "    print(age+2)"
   ]
  },
  {
   "cell_type": "code",
   "execution_count": 25,
   "id": "a3d5af60-f1e4-40f7-9f80-05763ab0725f",
   "metadata": {},
   "outputs": [
    {
     "name": "stdout",
     "output_type": "stream",
     "text": [
      "1\n",
      "2\n",
      "2\n",
      "3\n",
      "3\n",
      "4\n",
      "4\n",
      "5\n",
      "loop over\n",
      "6\n"
     ]
    }
   ],
   "source": [
    "my_ages= [1,2,3,4]\n",
    "for age in my_ages:\n",
    "    print(age)\n",
    "    print(age+1)\n",
    "print (\"loop over\")\n",
    "\n",
    "print(age+2)"
   ]
  },
  {
   "cell_type": "code",
   "execution_count": 24,
   "id": "2ae47c01-dbe5-42cb-912c-bfcc5667f0c2",
   "metadata": {},
   "outputs": [
    {
     "name": "stdout",
     "output_type": "stream",
     "text": [
      "55\n",
      "1\n",
      "35\n",
      "2\n",
      "24\n",
      "3\n",
      "46\n",
      "4\n",
      "[55, 35, 24, 46]\n"
     ]
    }
   ],
   "source": [
    "my_ages= [54,34,23,45]\n",
    "my_ages_next_year= []\n",
    "\n",
    "for age in my_ages:\n",
    "    new_age=age+1\n",
    "    print(new_age)\n",
    "    my_ages_next_year. append(new_age)\n",
    "    print(len(my_ages_next_year))\n",
    "\n",
    "print(my_ages_next_year)"
   ]
  },
  {
   "cell_type": "code",
   "execution_count": 27,
   "id": "d57fa5a9-f9f8-4cf3-86fd-87f5b2163980",
   "metadata": {},
   "outputs": [],
   "source": [
    "#Excercise\n",
    "# List of words\n",
    "words= [\"red\", \"green\", \"blue\"]\n",
    "\n",
    "#Using loops,\n",
    "# claculate the length of each word\n",
    "\n",
    "# if you feel confident,\n",
    "# store the lengths in a list"
   ]
  },
  {
   "cell_type": "code",
   "execution_count": 28,
   "id": "1ea0580e-fee2-4136-8996-0e3e9a8adc54",
   "metadata": {},
   "outputs": [
    {
     "name": "stdout",
     "output_type": "stream",
     "text": [
      "['red', 'green', 'blue']\n",
      "3\n",
      "['red', 'green', 'blue']\n",
      "5\n",
      "['red', 'green', 'blue']\n",
      "4\n",
      "loop over\n"
     ]
    }
   ],
   "source": [
    "#Using loops,\n",
    "# claculate the length of each word\n",
    "for word in words:\n",
    "   print(words)\n",
    "   print(len(word))\n",
    "print (\"loop over\")\n",
    "\n"
   ]
  },
  {
   "cell_type": "code",
   "execution_count": 30,
   "id": "7277d092-f6b2-4594-a6ea-9c0feae8f2f2",
   "metadata": {},
   "outputs": [
    {
     "name": "stdout",
     "output_type": "stream",
     "text": [
      "3\n",
      "5\n",
      "4\n",
      "[3, 5, 4]\n"
     ]
    }
   ],
   "source": [
    "# store the length in a list\n",
    "\n",
    "word_lengths= []\n",
    "for word in words:\n",
    "   word_len= len(word)\n",
    "   print(word_len)\n",
    "   word_lengths. append(word_len)\n",
    "\n",
    "print(word_lengths)\n"
   ]
  },
  {
   "cell_type": "code",
   "execution_count": 31,
   "id": "e615d32e-f6a5-4a2c-995a-d696ad04fc70",
   "metadata": {},
   "outputs": [
    {
     "name": "stdout",
     "output_type": "stream",
     "text": [
      "0\n",
      "1\n",
      "2\n",
      "3\n",
      "4\n",
      "5\n",
      "6\n",
      "7\n",
      "8\n",
      "9\n"
     ]
    }
   ],
   "source": [
    "# to create number from 0-9\n",
    "for number in range(10):\n",
    "    print(number)"
   ]
  },
  {
   "cell_type": "code",
   "execution_count": 32,
   "id": "d0c5f05f-7999-4810-ba48-3d5484c8252c",
   "metadata": {},
   "outputs": [
    {
     "name": "stdout",
     "output_type": "stream",
     "text": [
      "1\n",
      "2\n",
      "3\n",
      "4\n",
      "5\n",
      "6\n",
      "7\n",
      "8\n",
      "9\n",
      "10\n"
     ]
    }
   ],
   "source": [
    "# to create number from 1-11\n",
    "for number in range(1,11):\n",
    "    print(number)"
   ]
  },
  {
   "cell_type": "code",
   "execution_count": 33,
   "id": "89dac6d4-4142-4da8-89ec-535a52bf5350",
   "metadata": {},
   "outputs": [],
   "source": [
    "my_range = range(1,11)"
   ]
  },
  {
   "cell_type": "code",
   "execution_count": 34,
   "id": "bb662dbc-1c0e-421c-afb6-fae96ef2c351",
   "metadata": {},
   "outputs": [
    {
     "name": "stdout",
     "output_type": "stream",
     "text": [
      "range(1, 11)\n"
     ]
    }
   ],
   "source": [
    "print(my_range)"
   ]
  },
  {
   "cell_type": "code",
   "execution_count": 45,
   "id": "4f45eec3-7e9d-4271-b559-6f20d1f93b31",
   "metadata": {},
   "outputs": [
    {
     "name": "stdout",
     "output_type": "stream",
     "text": [
      "L\n",
      "i\n",
      "t\n",
      "h\n",
      "i\n",
      "u\n",
      "m\n",
      "7\n"
     ]
    }
   ],
   "source": [
    "my_word= \"Lithium\"\n",
    "# loop through and print\n",
    "# calaulate the length of the word without len function\n",
    "# save  this in a variable\n",
    "# every letter in this world\n",
    "\n",
    "length_word = 0\n",
    "\n",
    "for letter in my_word:\n",
    "   print(letter)\n",
    "   length_word = length_word + 1\n",
    "\n",
    "# save this in a variable\n",
    "print(length_word)\n",
    "   \n",
    "\n"
   ]
  },
  {
   "cell_type": "code",
   "execution_count": null,
   "id": "0a1638a7-73ca-45e1-bce8-eefa46d616d3",
   "metadata": {},
   "outputs": [],
   "source": []
  }
 ],
 "metadata": {
  "kernelspec": {
   "display_name": "Python 3 (ipykernel)",
   "language": "python",
   "name": "python3"
  },
  "language_info": {
   "codemirror_mode": {
    "name": "ipython",
    "version": 3
   },
   "file_extension": ".py",
   "mimetype": "text/x-python",
   "name": "python",
   "nbconvert_exporter": "python",
   "pygments_lexer": "ipython3",
   "version": "3.12.5"
  }
 },
 "nbformat": 4,
 "nbformat_minor": 5
}
